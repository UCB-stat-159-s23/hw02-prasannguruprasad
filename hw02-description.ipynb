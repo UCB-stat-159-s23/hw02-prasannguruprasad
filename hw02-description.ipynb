{
 "cells": [
  {
   "cell_type": "markdown",
   "id": "fbfcf616-e096-42f0-99b3-6d0a933ce55b",
   "metadata": {
    "user_expressions": []
   },
   "source": [
    "# Homework No 2 - _From Notebooks to Research Packages_\n",
    "\n",
    "* **Statistics 159/259, Spring 2023**\n",
    "* **Due Thursday 03/02/2022, 11:59PM PT**\n",
    "* Prof. F. Pérez and GSI F. Sapienza, Department of Statistics, UC Berkeley.\n",
    "* This assignment is worth a maximum of **35 points**.\n",
    "* Assignment type: **individual**.\n",
    "\n",
    "For this assignment, you will take use the [LIGO Gravitational Wave Detection Tutorial Notebook](https://github.com/losc-tutorial/LOSC_Event_tutorial) and companion files that are publicly available on Github. With those, you will structure this repository as a reproducible research package, with installable utilities separated into a small Python package, a conda Environment specification and a new Binder link. \n",
    "\n",
    "While the LIGO Open Science Center did a remarkable job offering these notebooks along with supporting code and a usable Binder link, we want you to make some improvements on top of this foundation, for example making certain versions explicit to ensure long-term reproducibility, more cleanly separating the supporting utilities from the code, etc.\n",
    "\n",
    "The LIGO project is a super interesting experiment that proved the existence of gravitational waves by measuring small fluctuations of space. You can find more information about the science behind LIGO in their [tutorials](https://www.gw-openscience.org/tutorials/)."
   ]
  },
  {
   "cell_type": "code",
   "execution_count": 1,
   "id": "80c2b4da-83ba-49c1-9e9b-8e0f92f56e8b",
   "metadata": {},
   "outputs": [
    {
     "name": "stdout",
     "output_type": "stream",
     "text": [
      "# packages in environment at /srv/conda:\n",
      "#\n",
      "# Name                    Version                   Build  Channel\n",
      "_libgcc_mutex             0.1                 conda_forge    conda-forge\n",
      "_openmp_mutex             4.5                       1_gnu    conda-forge\n",
      "asttokens                 2.2.1              pyhd8ed1ab_0    conda-forge\n",
      "backcall                  0.2.0              pyh9f0ad1d_0    conda-forge\n",
      "backports                 1.1                pyhd3eb1b0_0    defaults\n",
      "backports.functools_lru_cache 1.6.4              pyhd8ed1ab_0    conda-forge\n",
      "brotlipy                  0.7.0           py38h8df0ef7_1001    conda-forge\n",
      "bzip2                     1.0.8                h7f98852_4    conda-forge\n",
      "c-ares                    1.17.1               h36c2ea0_0    conda-forge\n",
      "ca-certificates           2023.01.10           h06a4308_0    defaults\n",
      "certifi                   2022.12.7          pyhd8ed1ab_0    conda-forge\n",
      "cffi                      1.14.4           py38ha65f79e_1    conda-forge\n",
      "chardet                   3.0.4           py38h924ce5b_1008    conda-forge\n",
      "comm                      0.1.2              pyhd8ed1ab_0    conda-forge\n",
      "conda                     4.9.2            py38h578d9bd_0    conda-forge\n",
      "conda-package-handling    1.7.2            py38h8df0ef7_0    conda-forge\n",
      "cryptography              3.2.1            py38h7699a38_0    conda-forge\n",
      "debugpy                   1.5.1            py38h295c915_0    defaults\n",
      "decorator                 5.1.1              pyhd8ed1ab_0    conda-forge\n",
      "entrypoints               0.4                pyhd8ed1ab_0    conda-forge\n",
      "executing                 1.2.0              pyhd8ed1ab_0    conda-forge\n",
      "icu                       67.1                 he1b5a44_0    conda-forge\n",
      "idna                      2.10               pyh9f0ad1d_0    conda-forge\n",
      "ipykernel                 6.19.2           py38hb070fc8_0    defaults\n",
      "ipython                   8.10.0           py38h06a4308_0    defaults\n",
      "jedi                      0.18.2             pyhd8ed1ab_0    conda-forge\n",
      "jupyter_client            7.3.1              pyhd8ed1ab_0    conda-forge\n",
      "jupyter_core              5.2.0            py38h578d9bd_0    conda-forge\n",
      "krb5                      1.17.2               h926e7f8_0    conda-forge\n",
      "ld_impl_linux-64          2.35.1               hed1e6ac_0    conda-forge\n",
      "libarchive                3.3.3             hddc7a2b_1008    conda-forge\n",
      "libcurl                   7.71.1               hcdd3856_8    conda-forge\n",
      "libedit                   3.1.20191231         he28a2e2_2    conda-forge\n",
      "libev                     4.33                 h516909a_1    conda-forge\n",
      "libffi                    3.3                  h58526e2_1    conda-forge\n",
      "libgcc-ng                 12.2.0              h65d4601_19    conda-forge\n",
      "libgomp                   12.2.0              h65d4601_19    conda-forge\n",
      "libiconv                  1.16                 h516909a_0    conda-forge\n",
      "libnghttp2                1.41.0               h8cfc5f6_2    conda-forge\n",
      "libsodium                 1.0.18               h516909a_1    conda-forge\n",
      "libsolv                   0.7.16               h8b12597_0    conda-forge\n",
      "libssh2                   1.9.0                hab1572f_5    conda-forge\n",
      "libstdcxx-ng              9.3.0               h2ae2ef3_17    conda-forge\n",
      "libxml2                   2.9.10               h68273f3_2    conda-forge\n",
      "lz4-c                     1.9.2                he1b5a44_3    conda-forge\n",
      "lzo                       2.10              h516909a_1000    conda-forge\n",
      "mamba                     0.7.4            py38h4c9354d_0    conda-forge\n",
      "matplotlib-inline         0.1.6              pyhd8ed1ab_0    conda-forge\n",
      "ncurses                   6.2                  h58526e2_4    conda-forge\n",
      "nest-asyncio              1.5.6              pyhd8ed1ab_0    conda-forge\n",
      "openssl                   1.1.1t               h0b41bf4_0    conda-forge\n",
      "packaging                 23.0               pyhd8ed1ab_0    conda-forge\n",
      "parso                     0.8.3              pyhd8ed1ab_0    conda-forge\n",
      "pexpect                   4.8.0            py38h32f6830_1    conda-forge\n",
      "pickleshare               0.7.5           py38h32f6830_1002    conda-forge\n",
      "pip                       20.3.1             pyhd8ed1ab_0    conda-forge\n",
      "platformdirs              3.0.0              pyhd8ed1ab_0    conda-forge\n",
      "prompt-toolkit            3.0.38             pyha770c72_0    conda-forge\n",
      "psutil                    5.9.4            py38h0a891b7_0    conda-forge\n",
      "ptyprocess                0.7.0              pyhd3deb0d_0    conda-forge\n",
      "pure_eval                 0.2.2              pyhd8ed1ab_0    conda-forge\n",
      "pycosat                   0.6.3           py38h8df0ef7_1005    conda-forge\n",
      "pycparser                 2.20               pyh9f0ad1d_2    conda-forge\n",
      "pygments                  2.14.0             pyhd8ed1ab_0    conda-forge\n",
      "pyopenssl                 20.0.0             pyhd8ed1ab_0    conda-forge\n",
      "pysocks                   1.7.1            py38h924ce5b_2    conda-forge\n",
      "python                    3.8.6           hffdb5ce_1_cpython    conda-forge\n",
      "python-dateutil           2.8.2              pyhd8ed1ab_0    conda-forge\n",
      "python_abi                3.8                      1_cp38    conda-forge\n",
      "pyzmq                     22.3.0           py38h295c915_2    defaults\n",
      "readline                  8.0                  he28a2e2_2    conda-forge\n",
      "reproc                    14.2.1               h36c2ea0_0    conda-forge\n",
      "reproc-cpp                14.2.1               h58526e2_0    conda-forge\n",
      "requests                  2.25.0             pyhd3deb0d_0    conda-forge\n",
      "ruamel_yaml               0.15.80         py38h8df0ef7_1003    conda-forge\n",
      "setuptools                49.6.0           py38h924ce5b_2    conda-forge\n",
      "six                       1.15.0             pyh9f0ad1d_0    conda-forge\n",
      "sqlite                    3.34.0               h74cdb3f_0    conda-forge\n",
      "stack_data                0.6.2              pyhd8ed1ab_0    conda-forge\n",
      "tk                        8.6.10               hed695b0_1    conda-forge\n",
      "tornado                   6.2              py38h0a891b7_1    conda-forge\n",
      "tqdm                      4.54.1             pyhd8ed1ab_0    conda-forge\n",
      "traitlets                 5.9.0              pyhd8ed1ab_0    conda-forge\n",
      "typing-extensions         4.4.0                hd8ed1ab_0    conda-forge\n",
      "typing_extensions         4.4.0              pyha770c72_0    conda-forge\n",
      "urllib3                   1.25.11                    py_0    conda-forge\n",
      "wcwidth                   0.2.6              pyhd8ed1ab_0    conda-forge\n",
      "wheel                     0.36.1             pyhd3deb0d_0    conda-forge\n",
      "xz                        5.2.5                h516909a_1    conda-forge\n",
      "yaml                      0.2.5                h516909a_0    conda-forge\n",
      "zeromq                    4.3.4                h9c3ff4c_0    conda-forge\n",
      "zlib                      1.2.11            h516909a_1010    conda-forge\n",
      "zstd                      1.4.5                h6597ccf_2    conda-forge\n",
      "\n",
      "Note: you may need to restart the kernel to use updated packages.\n"
     ]
    }
   ],
   "source": [
    "%conda list"
   ]
  },
  {
   "cell_type": "markdown",
   "id": "7026949e-a3aa-47ce-bcea-f8c29b3f0d97",
   "metadata": {
    "user_expressions": []
   },
   "source": [
    "## Deliverables\n",
    "\n",
    "### [5 points] Repository structure\n",
    "\n",
    "You will add to your repository, from the original LIGO one, only the following data files (we're going to focus on the GW150914 event, to keep the repository a bit smaller, so we won't include the data for other events):\n",
    "\n",
    "```\n",
    "BBH_events_v3.json\n",
    "GW150914_4_template.hdf5\n",
    "H-H1_LOSC_4_V2-1126259446-32.hdf5\n",
    "L-L1_LOSC_4_V2-1126259446-32.hdf5\n",
    "```\n",
    "\n",
    "From the original repository, you will also need the `LOSC_Event_tutorial.ipynb` notebook as well as the `readligo.py` utility Python file. Note that later (see below), you will be required to move the Python file into a separate package for installation.\n",
    "\n",
    "\n",
    "Add the following paragraph to the beginning of the `index.ipynb` notebook so that anyone who finds this repository clearly knows where the original credit for this content goes to:\n",
    "\n",
    "_This repository is public so that Binder can find it. All code and data is based on the original [LIGO Center for Open Science Tutorial Repository](https://github.com/losc-tutorial/LOSC_Event_tutorial). This repository is a class exercise that restructures the original LIGO code for improved reproducibility, as a homework assignment for the [Spring 2022 installment of UC Berkeley's Stat 159/259 course, _Reproducible and Collaborative Data Science](https://ucb-stat-159-s22.github.io). Authorship of the original analysis code rests with the LIGO collaboration._\n",
    "\n",
    "**Tag:** you must add a git tag to the repository at this stage called `repo-basic`."
   ]
  },
  {
   "cell_type": "markdown",
   "id": "f5a541d2-baf9-4eaa-a2ef-2dc869f3ea9f",
   "metadata": {
    "user_expressions": []
   },
   "source": [
    "### [5 points] Python `ligotools` package\n",
    "\n",
    "The notebook as shipped by LIGO includes a companion script, `readligo.py` with some data reading utilities.  You will move this file from being next to the notebook into a folder called `ligotools` and change the notebook line that reads\n",
    "\n",
    "```python\n",
    "import readligo as rl\n",
    "```\n",
    "\n",
    "into\n",
    "\n",
    "```python\n",
    "from ligotools import readligo as rl\n",
    "```\n",
    "\n",
    "For this, you will need the `ligotools` folder to work as a proper Python package. \n",
    "\n",
    "**Tag:** at this stage, add a tag called `ligotools-pkg`."
   ]
  },
  {
   "cell_type": "markdown",
   "id": "d16cd79b-10e1-4384-83fc-c217bbe449af",
   "metadata": {
    "user_expressions": []
   },
   "source": [
    "### [10 Points] A working `ligo` Conda environment\n",
    "\n",
    "You will add to this repository an `environment.yml` file that creates an environment named `ligo`, and installs the necessary dependencies to properly run this notebook on our hub. A few important things to keep in mind:\n",
    "\n",
    "* Check the version of Python that the LIGO notebook is using.  You will need to explicitly list the Python version in your environment.\n",
    "\n",
    "* Take advantage of the LIGO Binder to experiment with which versions of various packages it uses, so that you can add those same ones to your environment (in their original specification, they did not list specific Python versions, so they are frozen in time somewhat by accident based on when the Binder was last built).\n",
    "\n",
    "* To find a package version, you can print its `__version__` attribute after importing it in a Python environment. At the command line, you can also see the available packages in your system using `mamba list` and `pip list` respectively (depending on whether they were installed with mamba/conda or pip). You can filter the list of all the installed libraries with the `grep` command. For example, you can do `conda env export | grep numpy` to quickly find the numpy version in the environment.\n",
    "\n",
    "* If a package on Binder has version say `1.2.3`, in your environment file you should request only `1.2`, _without_ the third digit. Some revision versions (the three version digits are normally known as major.minor.revision) may not always be available identically today, so it's a bit safer to request version X.Y than to try to get X.Y.Z and have it fail because Z is not available.\n",
    "\n",
    "* Be careful with one package that you will need to list explicitly in addition to the scientific libraries and ipykernel: `decorator`. Check its version on Binder.  If you don't request it by X.Y version, you will accidentally get a much newer version that is not compatible with Python 2.7!\n",
    "\n",
    "* Remember to install the environment for yourself, add its kernel, and start running the notebook on the hub in that environment. You will have to install `ipykernel` and then create the respective kernel in order for this to work.\n",
    "\n",
    "**Tag:** when you complete this stage, add a tag called `conda-env`."
   ]
  },
  {
   "cell_type": "markdown",
   "id": "3cc4d831-d97a-4883-82ad-09bfb8e2ea6a",
   "metadata": {
    "user_expressions": []
   },
   "source": [
    "### [10 points] Add Binder support\n",
    "\n",
    "Once you have everything working using the `ligo` environment on the hub, test that your repository also works on Binder.  Then, add a Binder badge to your `README.md` file so that anyone who visits your repo on Github can click on the badge and get taken to a running Binder (just as the LIGO repository has in their `README.md`). That Binder session should:\n",
    "\n",
    "1. Land on the JupyterLab interface by default.\n",
    "2. Have your main `LOSC_Event_tutorial.ipynb` notebook already open.\n",
    "\n",
    "The [Binder documentation](https://mybinder.readthedocs.io/en/latest/) explains how to achieve both of these goals.\n",
    "\n",
    "You _must_ test that the binder actually works and that your notebook can run to completion in the  Binder, just like the original LIGO binder did, as the instructors will use the Binder links to test your work and look at your repo.\n",
    "\n",
    "**Tag:** at this stage, add a tag called `binder`."
   ]
  },
  {
   "cell_type": "markdown",
   "id": "91df7541-9e77-46ab-a0bf-d7b9ad37ee82",
   "metadata": {
    "user_expressions": []
   },
   "source": [
    "### [5 points] GitHub repository\n",
    "\n",
    "In this homework we are going to evaluate the overall workflow using git a GitHub. Be sure that you repository includes:\n",
    "- Clear commit messages as you make progress on the homework. \n",
    "- Your repository needs to include all the tags described in the previous items. \n",
    "- The `README.md` should include a basic description of the project with the Binder badge on it so you can directly launch Binder from there. \n",
    "- Not include any other file or folder that those needed for the project. For archiving this you can include a `.gitignore` file with the files you want git to ignore. "
   ]
  },
  {
   "cell_type": "code",
   "execution_count": null,
   "id": "0bd89cda-4487-46c7-a78d-2e46e48aadce",
   "metadata": {},
   "outputs": [],
   "source": []
  }
 ],
 "metadata": {
  "kernelspec": {
   "display_name": "IPython - LIGO",
   "language": "python",
   "name": "ligo"
  },
  "language_info": {
   "codemirror_mode": {
    "name": "ipython",
    "version": 3
   },
   "file_extension": ".py",
   "mimetype": "text/x-python",
   "name": "python",
   "nbconvert_exporter": "python",
   "pygments_lexer": "ipython3",
   "version": "3.8.6"
  }
 },
 "nbformat": 4,
 "nbformat_minor": 5
}
